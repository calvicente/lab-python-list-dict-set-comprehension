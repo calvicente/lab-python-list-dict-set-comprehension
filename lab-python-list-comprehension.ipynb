{
  "cells": [
    {
      "cell_type": "code",
      "execution_count": 57,
      "metadata": {
        "colab": {
          "base_uri": "https://localhost:8080/"
        },
        "id": "mzKqmxBK6STm",
        "outputId": "560b7710-87fe-4d34-cab9-15ff1ab0656c"
      },
      "outputs": [],
      "source": [
        "#add values to inventory\n",
        "def initialize_inventory(products):\n",
        "  inventory = {product:int(input(f'Please enter the quantity of {product}: ')) for product in products}\n",
        "  return inventory"
      ]
    },
    {
      "cell_type": "code",
      "execution_count": 58,
      "metadata": {
        "colab": {
          "base_uri": "https://localhost:8080/"
        },
        "id": "vWyZRNcE82Ep",
        "outputId": "4ff40652-d5a1-45b3-d30c-eba143d046b9"
      },
      "outputs": [],
      "source": [
        "#create customer order\n",
        "def get_customer_orders():\n",
        "  #customer_orders=set()\n",
        "  user_input=[]\n",
        "  number_of_itens = int(input('Please enter the number of customer orders: '))\n",
        "  n=0\n",
        "  while n<number_of_itens:\n",
        "    user_input.append(input('Please enter prodcut name: '))\n",
        "    n+=1\n",
        "  customer_orders={order_f for order_f in user_input if order_f in inventory}\n",
        "  return customer_orders"
      ]
    },
    {
      "cell_type": "code",
      "execution_count": 59,
      "metadata": {
        "colab": {
          "base_uri": "https://localhost:8080/"
        },
        "id": "iwT0UX4Rrb__",
        "outputId": "87103525-e4f2-4923-cb7f-b2792e7d2d31"
      },
      "outputs": [],
      "source": [
        "def calculate_order_statistics(cus_orders,inv):\n",
        "  total_items=0\n",
        "  type(total_items)\n",
        "  total_items=sum(inv.values())\n",
        "  order_status=(len(cus_orders),(len(cus_orders)/total_items)*100)\n",
        "  return order_status"
      ]
    },
    {
      "cell_type": "code",
      "execution_count": 60,
      "metadata": {
        "colab": {
          "base_uri": "https://localhost:8080/"
        },
        "id": "xosSoGKCnV1h",
        "outputId": "b4d7b9d1-1796-4d21-f2e6-e0bba11549c7"
      },
      "outputs": [],
      "source": [
        "#print order statistics\n",
        "def print_order_statistics (order_statistics):\n",
        "    print(f'Order Statistics: \\nTotal Products Ordered {order_statistics[0]}\\nPercentage of Products Ordered: {round(order_statistics[1],1)}%')"
      ]
    },
    {
      "cell_type": "code",
      "execution_count": 61,
      "metadata": {
        "id": "hrTCF0dYni8I"
      },
      "outputs": [],
      "source": [
        "#update inventory\n",
        "def update_inventory (cus_orders,curr_inventory):\n",
        "  for item_order in cus_orders:\n",
        "    if item_order in curr_inventory:\n",
        "        curr_inventory[item_order]-=1\n",
        "  updated_inventory={key:value for key,value in curr_inventory.items() if value>0}\n",
        "  return updated_inventory"
      ]
    },
    {
      "cell_type": "code",
      "execution_count": 62,
      "metadata": {
        "colab": {
          "base_uri": "https://localhost:8080/"
        },
        "id": "ThixQTYmv7SH",
        "outputId": "db6aef8c-2666-4b6f-f24e-2c4462d2d7f3"
      },
      "outputs": [],
      "source": [
        "#print updated inventory\n",
        "def print_updated_inventory (inv):\n",
        "  print('Updated Inventory:')\n",
        "  for key,value in inv.items():\n",
        "    print(f'{key}: {value}')"
      ]
    },
    {
      "cell_type": "code",
      "execution_count": 63,
      "metadata": {},
      "outputs": [],
      "source": [
        "#calculate the total price of customer order\n",
        "def total_price_order(order_f,inv):\n",
        "    prices=[float(input(f'Enter price of  {product}: ')) if product in inv else 0 for product in order_f]\n",
        "    total_price = sum(prices)\n",
        "    return total_price"
      ]
    },
    {
      "cell_type": "code",
      "execution_count": 64,
      "metadata": {
        "id": "wLyRfvl75-ag"
      },
      "outputs": [],
      "source": [
        "products_list=['t-shirt','mug','hat','book','keychain']"
      ]
    },
    {
      "cell_type": "code",
      "execution_count": 65,
      "metadata": {
        "colab": {
          "base_uri": "https://localhost:8080/"
        },
        "id": "lnmsfN5V7v-3",
        "outputId": "7eba549e-9060-4a33-d99e-53b85f6ae365"
      },
      "outputs": [
        {
          "data": {
            "text/plain": [
              "{'t-shirt': 1, 'mug': 1, 'hat': 1, 'book': 1, 'keychain': 1}"
            ]
          },
          "execution_count": 65,
          "metadata": {},
          "output_type": "execute_result"
        }
      ],
      "source": [
        "inventory=initialize_inventory(products_list)\n",
        "inventory"
      ]
    },
    {
      "cell_type": "code",
      "execution_count": 66,
      "metadata": {
        "colab": {
          "base_uri": "https://localhost:8080/"
        },
        "id": "T_Ich_9xk2dV",
        "outputId": "44860eb5-594b-4145-aef3-88c173e0120b"
      },
      "outputs": [
        {
          "data": {
            "text/plain": [
              "{'hat', 'mug'}"
            ]
          },
          "execution_count": 66,
          "metadata": {},
          "output_type": "execute_result"
        }
      ],
      "source": [
        "order=get_customer_orders()\n",
        "order"
      ]
    },
    {
      "cell_type": "code",
      "execution_count": 67,
      "metadata": {},
      "outputs": [
        {
          "name": "stdout",
          "output_type": "stream",
          "text": [
            "Order Statistics: \n",
            "Total Products Ordered 2\n",
            "Percentage of Products Ordered: 40.0%\n"
          ]
        }
      ],
      "source": [
        "order_statistics=calculate_order_statistics(order,inventory)\n",
        "print_order_statistics(order_statistics)"
      ]
    },
    {
      "cell_type": "code",
      "execution_count": 68,
      "metadata": {},
      "outputs": [
        {
          "name": "stdout",
          "output_type": "stream",
          "text": [
            "Updated Inventory:\n",
            "t-shirt: 1\n",
            "book: 1\n",
            "keychain: 1\n"
          ]
        }
      ],
      "source": [
        "updated_inventory=update_inventory(order,inventory)\n",
        "print_updated_inventory (updated_inventory)"
      ]
    },
    {
      "cell_type": "code",
      "execution_count": 69,
      "metadata": {
        "id": "n4NiG6wHxNzk"
      },
      "outputs": [
        {
          "name": "stdout",
          "output_type": "stream",
          "text": [
            "Total price: 10.0\n"
          ]
        }
      ],
      "source": [
        "order_total = total_price_order(order,inventory)\n",
        "print(f'Total price: {order_total}')"
      ]
    },
    {
      "cell_type": "code",
      "execution_count": 70,
      "metadata": {},
      "outputs": [],
      "source": [
        "inventory=updated_inventory"
      ]
    }
  ],
  "metadata": {
    "colab": {
      "provenance": []
    },
    "kernelspec": {
      "display_name": "Python 3",
      "name": "python3"
    },
    "language_info": {
      "codemirror_mode": {
        "name": "ipython",
        "version": 3
      },
      "file_extension": ".py",
      "mimetype": "text/x-python",
      "name": "python",
      "nbconvert_exporter": "python",
      "pygments_lexer": "ipython3",
      "version": "3.10.9"
    }
  },
  "nbformat": 4,
  "nbformat_minor": 0
}
